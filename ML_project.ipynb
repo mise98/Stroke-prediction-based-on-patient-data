{
 "cells": [
  {
   "attachments": {},
   "cell_type": "markdown",
   "metadata": {},
   "source": [
    "# Stroke prediction based on patient data"
   ]
  },
  {
   "cell_type": "code",
   "execution_count": 3,
   "metadata": {},
   "outputs": [],
   "source": [
    "import statistics\n",
    "import pandas as pd\n",
    "import matplotlib.pyplot as plt\n",
    "from sklearn.ensemble import AdaBoostClassifier\n",
    "from sklearn.datasets import make_classification\n",
    "#from sklearn.metrics import plot_confusion_matrix\n",
    "from sklearn.metrics import classification_report\n",
    "from sklearn.metrics import confusion_matrix\n",
    "from sklearn.ensemble import RandomForestClassifier\n",
    "import numpy as np\n",
    "from sklearn.metrics import mean_squared_error\n",
    "from sklearn.model_selection import train_test_split\n",
    "from sklearn.metrics import accuracy_score\n",
    "from sklearn.neural_network import MLPClassifier\n",
    "from sklearn.model_selection import cross_val_score\n",
    "from sklearn.tree import DecisionTreeClassifier\n",
    "from sklearn.neighbors import KNeighborsClassifier\n",
    "from sklearn.svm import SVC  \n",
    "from sklearn.model_selection import GridSearchCV \n",
    "from sklearn.pipeline import Pipeline                   #Import Pipeline\n",
    "from sklearn.preprocessing import StandardScaler \n",
    "from imblearn.over_sampling import SMOTE\n",
    "from sklearn.model_selection import StratifiedKFold"
   ]
  },
  {
   "attachments": {},
   "cell_type": "markdown",
   "metadata": {},
   "source": [
    "### Reading and pre-processing the data set"
   ]
  },
  {
   "cell_type": "code",
   "execution_count": 5,
   "metadata": {},
   "outputs": [],
   "source": [
    "data_set = pd.read_csv (\"healthcare-dataset-stroke-data.csv\").dropna().to_numpy()\n",
    "\n",
    "data_set = data_set[:,1:]\n",
    "#print(data_set)\n",
    "n,m = data_set.shape\n",
    "\n",
    "\n",
    "for i in range(n):\n",
    "\n",
    "    if(data_set[i][0] == \"Male\"):\n",
    "        data_set[i][0] = 0\n",
    "    if(data_set[i][0] == \"Female\"):\n",
    "        data_set[i][0] = 1\n",
    "    if(data_set[i][0] == \"Other\"):\n",
    "        data_set[i][0] = 2\n",
    "    if(data_set[i][4] == \"Yes\"):\n",
    "        data_set[i][4] = 1\n",
    "    if(data_set[i][4] == \"No\"):\n",
    "        data_set[i][4] = 0\n",
    "    if(data_set[i][5] == \"Private\"):\n",
    "        data_set[i][5] = 0\n",
    "    if(data_set[i][5] == \"Self-employed\"):\n",
    "        data_set[i][5] = 1\n",
    "    if(data_set[i][5] == \"children\"):\n",
    "        data_set[i][5] = 2\n",
    "    if(data_set[i][5] == \"Govt_job\"):\n",
    "        data_set[i][5] = 3\n",
    "    if(data_set[i][5] == \"Never_worked\"):\n",
    "        data_set[i][5] = 4\n",
    "    if(data_set[i][6] == \"Urban\"):\n",
    "        data_set[i][6] = 0\n",
    "    if(data_set[i][6] == \"Rural\"):\n",
    "        data_set[i][6] = 1\n",
    "    if(data_set[i][9] == \"never smoked\"):\n",
    "        data_set[i][9] = 0\n",
    "    if(data_set[i][9] == \"Unknown\"):\n",
    "        data_set[i][9] = 1\n",
    "    if(data_set[i][9] == \"formerly smoked\"):\n",
    "        data_set[i][9] = 2\n",
    "    if(data_set[i][9] == \"smokes\"):\n",
    "        data_set[i][9] = 3\n",
    "    if(data_set[i][10] == 0):\n",
    "        data_set[i][10] = \"No\"\n",
    "    if(data_set[i][10] == 1):\n",
    "        data_set[i][10] = \"Yes\"\n",
    "\n",
    "        "
   ]
  },
  {
   "cell_type": "code",
   "execution_count": 7,
   "metadata": {},
   "outputs": [],
   "source": [
    "np.random.shuffle(data_set)\n",
    "x = data_set[:,:-1]\n",
    "y = data_set[:,-1]\n",
    "oversample = SMOTE()\n",
    "x,y = oversample.fit_resample(x, y)\n",
    "X_train, X_val, y_train, y_val = train_test_split(x, y, test_size=0.2, random_state=21)\n"
   ]
  },
  {
   "attachments": {},
   "cell_type": "markdown",
   "metadata": {},
   "source": [
    "### Classification of the data with different methods"
   ]
  },
  {
   "cell_type": "code",
   "execution_count": 9,
   "metadata": {},
   "outputs": [],
   "source": [
    "#Random forest\n",
    "clf = RandomForestClassifier( n_estimators=100, random_state=21 )\n",
    "scaler = StandardScaler()\n",
    "pipe_rt = Pipeline([('scaler', scaler), ('clf', clf)])\n",
    "\n",
    "#Support Vector Machines\n",
    "svm = SVC()\n",
    "scaler = StandardScaler()\n",
    "pipe_svc = Pipeline([('scaler', scaler), ('clf', svm)])\n",
    "\n",
    "#k-Nearest Neighbours\n",
    "ada = KNeighborsClassifier()\n",
    "scaler = StandardScaler()\n",
    "pipe_kn = Pipeline([('scaler', scaler), ('clf', ada)])"
   ]
  },
  {
   "attachments": {},
   "cell_type": "markdown",
   "metadata": {},
   "source": [
    "##### 5-fold cross-validation for the three models"
   ]
  },
  {
   "cell_type": "code",
   "execution_count": 13,
   "metadata": {},
   "outputs": [
    {
     "name": "stdout",
     "output_type": "stream",
     "text": [
      "Average training error rate of random forest after 5-fold cross-validation :\n",
      "0.0\n",
      "Average error training rate of svm after 5-fold cross-validation:\n",
      "0.0761303191489362\n",
      "Average error training rate of KNeighborsClassifier after 5-fold cross-validation:\n",
      "0.05123005319148943\n",
      "Average validation error rate of random forest after 5-fold cross-validation :\n",
      "0.026329787234042556\n",
      "Average validation training rate of svm after 5-fold cross-validation:\n",
      "0.09042553191489366\n",
      "Average validation training rate of KNeighborsClassifier after 5-fold cross-validation:\n",
      "0.07965425531914894\n"
     ]
    }
   ],
   "source": [
    "skf = StratifiedKFold(n_splits=5, shuffle=True, random_state=21)\n",
    "\n",
    "\n",
    "avg_error_rt_t = []\n",
    "avg_erro_svm_t = []\n",
    "avg_error_kn_t = []\n",
    "\n",
    "avg_error_rt_v = []\n",
    "avg_erro_svm_v = []\n",
    "avg_error_kn_v = []\n",
    "\n",
    "for train_index, test_index in skf.split(X_train, y_train):\n",
    "\n",
    "    X_tr, X_te = X_train[train_index], X_train[test_index]\n",
    "    y_tr, y_te = y_train[train_index], y_train[test_index]\n",
    "    \n",
    "    pipe_rt.fit(X_tr, y_tr)\n",
    "    pipe_svc.fit(X_tr, y_tr)\n",
    "    pipe_kn.fit(X_tr, y_tr)\n",
    "    \n",
    "    y_pred_tr = pipe_rt.predict(X_tr)\n",
    "    avg_error_rt_t.append(accuracy_score(y_tr, y_pred_tr))\n",
    "    y_pred_v = pipe_rt.predict(X_te)\n",
    "    avg_error_rt_v.append(accuracy_score(y_te, y_pred_v))\n",
    "    \n",
    "    y_pred_tr = pipe_svc.predict(X_tr)\n",
    "    avg_erro_svm_t.append(accuracy_score(y_tr, y_pred_tr))\n",
    "    y_pred_v = pipe_svc.predict(X_te)\n",
    "    avg_erro_svm_v.append(accuracy_score(y_te, y_pred_v))\n",
    "    \n",
    "    y_pred_tr = pipe_kn.predict(X_tr)\n",
    "    avg_error_kn_t.append(accuracy_score(y_tr, y_pred_tr))\n",
    "    y_pred_v = pipe_kn.predict(X_te)\n",
    "    avg_error_kn_v.append(accuracy_score(y_te, y_pred_v))\n",
    "    \n",
    "    \n",
    "\n",
    "print(\"Average training error rate of random forest after 5-fold cross-validation :\")\n",
    "print(1-statistics.mean(avg_error_rt_t))\n",
    "print(\"Average error training rate of svm after 5-fold cross-validation:\")\n",
    "print(1-statistics.mean(avg_erro_svm_t))\n",
    "print(\"Average error training rate of KNeighborsClassifier after 5-fold cross-validation:\")\n",
    "print(1-statistics.mean(avg_error_kn_t))\n",
    "\n",
    "\n",
    "print(\"Average validation error rate of random forest after 5-fold cross-validation :\")\n",
    "print(1-statistics.mean(avg_error_rt_v))\n",
    "print(\"Average validation training rate of svm after 5-fold cross-validation:\")\n",
    "print(1-statistics.mean(avg_erro_svm_v))\n",
    "print(\"Average validation training rate of KNeighborsClassifier after 5-fold cross-validation:\")\n",
    "print(1-statistics.mean(avg_error_kn_v))\n"
   ]
  },
  {
   "attachments": {},
   "cell_type": "markdown",
   "metadata": {},
   "source": [
    "### Final evaluation with best model (Random Forest)"
   ]
  },
  {
   "cell_type": "code",
   "execution_count": null,
   "metadata": {},
   "outputs": [],
   "source": [
    "best = pipe_rt.fit(X_train,y_train)\n",
    "\n",
    "y_pred_tr = best.predict(X_train)\n",
    "print(accuracy_score(y_train, y_pred_tr))\n",
    "y_pred_v =best.predict(X_val)\n",
    "print(accuracy_score(y_val, y_pred_v))\n",
    "\n",
    "plot_confusion_matrix(best, X_val,y_val)\n",
    "\n",
    "plt.show() \n"
   ]
  }
 ],
 "metadata": {
  "kernelspec": {
   "display_name": "Python 3",
   "language": "python",
   "name": "python3"
  },
  "language_info": {
   "codemirror_mode": {
    "name": "ipython",
    "version": 3
   },
   "file_extension": ".py",
   "mimetype": "text/x-python",
   "name": "python",
   "nbconvert_exporter": "python",
   "pygments_lexer": "ipython3",
   "version": "3.9.11"
  },
  "orig_nbformat": 4,
  "vscode": {
   "interpreter": {
    "hash": "a9dece3513efec952118b97c533dd39c075ee96959f5f3db030b21f210d34d58"
   }
  }
 },
 "nbformat": 4,
 "nbformat_minor": 2
}
